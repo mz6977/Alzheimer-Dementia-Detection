{
 "cells": [
  {
   "cell_type": "code",
   "execution_count": 18,
   "metadata": {},
   "outputs": [
    {
     "name": "stdout",
     "output_type": "stream",
     "text": [
      " * Serving Flask app '__main__'\n",
      " * Debug mode: on\n"
     ]
    },
    {
     "name": "stderr",
     "output_type": "stream",
     "text": [
      "WARNING: This is a development server. Do not use it in a production deployment. Use a production WSGI server instead.\n",
      " * Running on http://127.0.0.1:8000\n",
      "Press CTRL+C to quit\n"
     ]
    },
    {
     "name": "stdout",
     "output_type": "stream",
     "text": [
      "WARNING:tensorflow:6 out of the last 6 calls to <function Model.make_predict_function.<locals>.predict_function at 0x000001EE9EA24670> triggered tf.function retracing. Tracing is expensive and the excessive number of tracings could be due to (1) creating @tf.function repeatedly in a loop, (2) passing tensors with different shapes, (3) passing Python objects instead of tensors. For (1), please define your @tf.function outside of the loop. For (2), @tf.function has reduce_retracing=True option that can avoid unnecessary retracing. For (3), please refer to https://www.tensorflow.org/guide/function#controlling_retracing and https://www.tensorflow.org/api_docs/python/tf/function for  more details.\n",
      "1/1 [==============================] - 0s 142ms/step\n"
     ]
    },
    {
     "name": "stderr",
     "output_type": "stream",
     "text": [
      "127.0.0.1 - - [13/Feb/2024 23:13:44] \"POST /predict HTTP/1.1\" 200 -\n",
      "127.0.0.1 - - [13/Feb/2024 23:13:44] \"GET /static/images/try2.jpg HTTP/1.1\" 200 -\n"
     ]
    },
    {
     "name": "stdout",
     "output_type": "stream",
     "text": [
      "1/1 [==============================] - 0s 31ms/step\n"
     ]
    },
    {
     "name": "stderr",
     "output_type": "stream",
     "text": [
      "127.0.0.1 - - [13/Feb/2024 23:14:24] \"POST /predict HTTP/1.1\" 200 -\n",
      "127.0.0.1 - - [13/Feb/2024 23:14:24] \"GET /static/images/try2.jpg HTTP/1.1\" 200 -\n"
     ]
    }
   ],
   "source": [
    "from flask import Flask, render_template, request\n",
    "from tensorflow.keras.models import load_model\n",
    "import numpy as np\n",
    "from tensorflow.keras.preprocessing.image import load_img\n",
    "from tensorflow.keras.applications.vgg16 import preprocess_input\n",
    "import os\n",
    "from tensorflow.keras.preprocessing import image\n",
    "\n",
    "app = Flask(__name__)\n",
    "model = load_model('C:/Users/mayan/Desktop/Projects/AI ML/Alzheimer\\'s Detection/final_model_01.h5')\n",
    "target_img = os.path.join(os.getcwd(), 'static/images')\n",
    "\n",
    "@app.route('/')\n",
    "def index_view():\n",
    "    return render_template('index.html')\n",
    "\n",
    "# Allow files with extension png, jpg, and jpeg\n",
    "ALLOWED_EXT = set(['jpg', 'jpeg', 'png'])\n",
    "\n",
    "def allowed_file(filename):\n",
    "    return '.' in filename and filename.rsplit('.', 1)[1] in ALLOWED_EXT\n",
    "\n",
    "# Function to load and prepare the image in the right shape\n",
    "def read_image(filename):\n",
    "    img = load_img(filename, target_size=(100,100))\n",
    "    x = image.img_to_array(img)\n",
    "    x = np.expand_dims(x, axis=0)\n",
    "    x = preprocess_input(x)\n",
    "    return x\n",
    "\n",
    "@app.route('/predict', methods=['GET', 'POST'])\n",
    "def predict():\n",
    "    if request.method == 'POST':\n",
    "        file = request.files['file']\n",
    "        if file and allowed_file(file.filename):  # Checking file format\n",
    "            filename = file.filename\n",
    "            file_path = os.path.join('static/images', filename)\n",
    "            file.save(file_path)\n",
    "            img = read_image(file_path)  # Preprocessing method\n",
    "            class_prediction = model.predict(img)\n",
    "            classes_x = np.argmax(class_prediction, axis=1)\n",
    "            if classes_x == 0:\n",
    "                stage = \"Mild Demented\"\n",
    "            elif classes_x == 1:\n",
    "                stage = \"Moderate Demented\"\n",
    "            elif classes_x == 2:\n",
    "                stage = \"Non Demented\"\n",
    "            elif classes_x == 3:\n",
    "                stage = \"Very Mild Demented\"\n",
    "            else:\n",
    "                stage = \"Hmmmmm!!!!\"\n",
    "            # 'fruit', 'prob', 'user_image' these names we have seen in predict.html.\n",
    "            return render_template('predict.html', stage=stage, prob=class_prediction, user_image=file_path)\n",
    "        else:\n",
    "            return \"Unable to read the file. Please check file extension\"\n",
    "\n",
    "if __name__ == '__main__':\n",
    "    app.run(debug=True, use_reloader=False, port=8000)\n"
   ]
  }
 ],
 "metadata": {
  "kernelspec": {
   "display_name": "tf210",
   "language": "python",
   "name": "python3"
  },
  "language_info": {
   "codemirror_mode": {
    "name": "ipython",
    "version": 3
   },
   "file_extension": ".py",
   "mimetype": "text/x-python",
   "name": "python",
   "nbconvert_exporter": "python",
   "pygments_lexer": "ipython3",
   "version": "3.9.18"
  }
 },
 "nbformat": 4,
 "nbformat_minor": 2
}
